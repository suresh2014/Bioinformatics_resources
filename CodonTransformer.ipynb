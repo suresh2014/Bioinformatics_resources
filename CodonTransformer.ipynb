{
  "nbformat": 4,
  "nbformat_minor": 0,
  "metadata": {
    "colab": {
      "provenance": [],
      "include_colab_link": true
    },
    "kernelspec": {
      "name": "python3",
      "display_name": "Python 3"
    },
    "language_info": {
      "name": "python"
    }
  },
  "cells": [
    {
      "cell_type": "markdown",
      "metadata": {
        "id": "view-in-github",
        "colab_type": "text"
      },
      "source": [
        "<a href=\"https://colab.research.google.com/github/suresh2014/Bioinformatics_resources/blob/main/CodonTransformer.ipynb\" target=\"_parent\"><img src=\"https://colab.research.google.com/assets/colab-badge.svg\" alt=\"Open In Colab\"/></a>"
      ]
    },
    {
      "cell_type": "markdown",
      "source": [
        "<p align=\"center\">\n",
        "  <img src=\"https://github.com/Adibvafa/CodonTransformer/raw/main/src/banner_final.png\" alt=\"CodonTransformer Logo\" width=\"100%\" height=\"100%\" style=\"vertical-align: middle;\"/>\n",
        "</p>\n",
        "\n",
        "<p align=\"center\">\n",
        "  <a href=\"https://www.biorxiv.org/content/10.1101/2024.09.13.612903\" target=\"_blank\"><img src=\"https://img.shields.io/badge/arXiv-Paper-FF6B6B?style=for-the-badge&logo=arxiv&logoColor=white\" alt=\"arXiv\"></a>\n",
        "  <a href=\"https://github.com/Adibvafa/CodonTransformer\"><img src=\"https://img.shields.io/badge/GitHub-Code-4A90E2?style=for-the-badge&logo=github&logoColor=white\" alt=\"GitHub\"></a>\n",
        "  <a href=\"https://adibvafa.github.io/CodonTransformer/\"><img src=\"https://img.shields.io/badge/Website-Online-00B89E?style=for-the-badge&logo=internet-explorer&logoColor=white\" alt=\"Website\"></a>\n",
        "  <a href=\"https://huggingface.co/adibvafa/CodonTransformer\"><img src=\"https://img.shields.io/badge/HuggingFace-Model-FFBF00?style=for-the-badge&logo=huggingface&logoColor=white\" alt=\"HuggingFace Model\"></a>\n",
        "  <a href=\"https://adibvafa.github.io/CodonTransformer/GoogleColab\"><img src=\"https://img.shields.io/badge/Colab-Notebook-e2006a?style=for-the-badge&logo=googlecolab&logoColor=white\" alt=\"Colab\"></a>\n",
        "</p>"
      ],
      "metadata": {
        "id": "YohEp8UGCdfY"
      }
    },
    {
      "cell_type": "markdown",
      "source": [
        "**Welcome to the CodonTransformer Google Colab!**\n",
        "\n",
        "- Select `File` -> `Save a copy in drive` to save this notebook.\n",
        "- You can run each cell by clicking on the ▶️ icon.\n",
        "- Use these sections for [single sequence](#scrollTo=yI_HL2WdPxVn) or [multiple sequene](#scrollTo=YNR7DPR9CUjn) optimization."
      ],
      "metadata": {
        "id": "bX7p-XIVCLw1"
      }
    },
    {
      "cell_type": "markdown",
      "source": [
        "--------------------------------------------------------------------------\n",
        "# **Setup Notebook**"
      ],
      "metadata": {
        "id": "BQu2NouqP4tx"
      }
    },
    {
      "cell_type": "code",
      "execution_count": null,
      "metadata": {
        "id": "Y7H5uSCN6mFo",
        "collapsed": true,
        "cellView": "form"
      },
      "outputs": [],
      "source": [
        "#@title Install the Package\n",
        "%%capture\n",
        "!pip install --upgrade CodonTransformer"
      ]
    },
    {
      "cell_type": "code",
      "source": [
        "#@title Import the Package\n",
        "import torch\n",
        "import pandas as pd\n",
        "\n",
        "import warnings\n",
        "from tqdm import tqdm\n",
        "\n",
        "from transformers import AutoTokenizer, BigBirdForMaskedLM\n",
        "from CodonTransformer.CodonPrediction import predict_dna_sequence\n",
        "from CodonTransformer.CodonJupyter import UserContainer, format_model_output\n",
        "\n",
        "from google.colab import output\n",
        "output.enable_custom_widget_manager()\n",
        "warnings.filterwarnings(\"ignore\")\n",
        "\n",
        "DEVICE = torch.device(\"cuda\" if torch.cuda.is_available() else \"cpu\")\n",
        "\n",
        "print(\"Packages Imported Successfully.\")"
      ],
      "metadata": {
        "id": "b6ofMkYy6nih",
        "cellView": "form"
      },
      "execution_count": null,
      "outputs": []
    },
    {
      "cell_type": "code",
      "source": [
        "#@title Load Model and Tokenizer\n",
        "tokenizer = AutoTokenizer.from_pretrained(\"adibvafa/CodonTransformer\")\n",
        "model = BigBirdForMaskedLM.from_pretrained(\"adibvafa/CodonTransformer\").to(DEVICE)\n",
        "print(\"Model and Tokenizer Loaded Successfully.\")"
      ],
      "metadata": {
        "id": "G7o61tyh8L-_",
        "cellView": "form"
      },
      "execution_count": null,
      "outputs": []
    },
    {
      "cell_type": "markdown",
      "source": [
        "--------------------------------------------------------------------------\n",
        "# **Optimizing a Single Sequence**"
      ],
      "metadata": {
        "id": "yI_HL2WdPxVn"
      }
    },
    {
      "cell_type": "code",
      "source": [
        "#@title **Enter Protein Sequence and Organism**\n",
        "#@markdown Input your protein sequence and organism, then run this cell. <br>\n",
        "#@markdown CodonTransformer is finetuned on [major organisms](https://github.com/Adibvafa/CodonTransformer/blob/main/CodonTransformer/CodonUtils.py#L250).\n",
        "#@markdown Check our paper for more information! <br> <br>\n",
        "\n",
        "protein_sequence = 'MALWMRLLPLLALLALWGPDPAAAFVNQHTPKTRREAEDLQVGQVELGG' #@param {type:\"string\"}\n",
        "organism = \"Escherichia coli general\" # @param [\"Arabidopsis thaliana\", \"Bacillus subtilis\", \"Caenorhabditis elegans\", \"Chlamydomonas reinhardtii\", \"Chlamydomonas reinhardtii chloroplast\", \"Danio rerio\", \"Drosophila melanogaster\", \"Escherichia coli general\", \"Homo sapiens\", \"Mus musculus\", \"Nicotiana tabacum\", \"Nicotiana tabacum chloroplast\", \"Pseudomonas putida\", \"Saccharomyces cerevisiae\", \"Atlantibacter hermannii\", \"Brenneria goodwinii\", \"Buchnera aphidicola (Schizaphis graminum)\", \"Candidatus Erwinia haradaeae\", \"Candidatus Hamiltonella defensa 5AT (Acyrthosiphon pisum)\", \"Citrobacter amalonaticus\", \"Citrobacter braakii\", \"Citrobacter cronae\", \"Citrobacter europaeus\", \"Citrobacter farmeri\", \"Citrobacter freundii\", \"Citrobacter koseri ATCC BAA-895\", \"Citrobacter portucalensis\", \"Citrobacter werkmanii\", \"Citrobacter youngae\", \"Cronobacter dublinensis subsp. dublinensis LMG 23823\", \"Cronobacter malonaticus LMG 23826\", \"Cronobacter sakazakii\", \"Cronobacter turicensis\", \"Dickeya dadantii 3937\", \"Dickeya dianthicola\", \"Dickeya fangzhongdai\", \"Dickeya solani\", \"Dickeya zeae\", \"Edwardsiella anguillarum ET080813\", \"Edwardsiella ictaluri\", \"Edwardsiella piscicida\", \"Edwardsiella tarda\", \"Enterobacter asburiae\", \"Enterobacter bugandensis\", \"Enterobacter cancerogenus\", \"Enterobacter chengduensis\", \"Enterobacter cloacae\", \"Enterobacter hormaechei\", \"Enterobacter kobei\", \"Enterobacter ludwigii\", \"Enterobacter mori\", \"Enterobacter quasiroggenkampii\", \"Enterobacter roggenkampii\", \"Enterobacter sichuanensis\", \"Erwinia amylovora CFBP1430\", \"Erwinia persicina\", \"Escherichia albertii\", \"Escherichia coli O157-H7 str. Sakai\", \"Escherichia coli str. K-12 substr. MG1655\", \"Escherichia fergusonii\", \"Escherichia marmotae\", \"Escherichia ruysiae\", \"Ewingella americana\", \"Hafnia alvei\", \"Hafnia paralvei\", \"Kalamiella piersonii\", \"Klebsiella aerogenes\", \"Klebsiella grimontii\", \"Klebsiella michiganensis\", \"Klebsiella oxytoca\", \"Klebsiella pasteurii\", \"Klebsiella pneumoniae subsp. pneumoniae HS11286\", \"Klebsiella quasipneumoniae\", \"Klebsiella quasivariicola\", \"Klebsiella variicola\", \"Kosakonia cowanii\", \"Kosakonia radicincitans\", \"Leclercia adecarboxylata\", \"Lelliottia amnigena\", \"Lonsdalea populi\", \"Moellerella wisconsensis\", \"Morganella morganii\", \"Obesumbacterium proteus\", \"Pantoea agglomerans\", \"Pantoea allii\", \"Pantoea ananatis PA13\", \"Pantoea dispersa\", \"Pantoea stewartii\", \"Pantoea vagans\", \"Pectobacterium aroidearum\", \"Pectobacterium atrosepticum\", \"Pectobacterium brasiliense\", \"Pectobacterium carotovorum\", \"Pectobacterium odoriferum\", \"Pectobacterium parmentieri\", \"Pectobacterium polaris\", \"Pectobacterium versatile\", \"Photorhabdus laumondii subsp. laumondii TTO1\", \"Plesiomonas shigelloides\", \"Pluralibacter gergoviae\", \"Proteus faecis\", \"Proteus mirabilis HI4320\", \"Proteus penneri\", \"Proteus terrae subsp. cibarius\", \"Proteus vulgaris\", \"Providencia alcalifaciens\", \"Providencia heimbachae\", \"Providencia rettgeri\", \"Providencia rustigianii\", \"Providencia stuartii\", \"Providencia thailandensis\", \"Pyrococcus furiosus\", \"Pyrococcus horikoshii\", \"Pyrococcus yayanosii\", \"Rahnella aquatilis CIP 78.65 = ATCC 33071\", \"Raoultella ornithinolytica\", \"Raoultella planticola\", \"Raoultella terrigena\", \"Rosenbergiella epipactidis\", \"Rouxiella badensis\", \"Saccharolobus solfataricus\", \"Salmonella bongori N268-08\", \"Salmonella enterica subsp. enterica serovar Typhimurium str. LT2\", \"Serratia bockelmannii\", \"Serratia entomophila\", \"Serratia ficaria\", \"Serratia fonticola\", \"Serratia grimesii\", \"Serratia liquefaciens\", \"Serratia marcescens\", \"Serratia nevei\", \"Serratia plymuthica AS9\", \"Serratia proteamaculans\", \"Serratia quinivorans\", \"Serratia rubidaea\", \"Serratia ureilytica\", \"Shigella boydii\", \"Shigella dysenteriae\", \"Shigella flexneri 2a str. 301\", \"Shigella sonnei\", \"Thermoccoccus kodakarensis\", \"Thermococcus barophilus MPT\", \"Thermococcus chitonophagus\", \"Thermococcus gammatolerans\", \"Thermococcus litoralis\", \"Thermococcus onnurineus\", \"Thermococcus sibiricus\", \"Xenorhabdus bovienii str. feltiae Florida\", \"Yersinia aldovae 670-83\", \"Yersinia aleksiciae\", \"Yersinia alsatica\", \"Yersinia enterocolitica\", \"Yersinia frederiksenii ATCC 33641\", \"Yersinia intermedia\", \"Yersinia kristensenii\", \"Yersinia massiliensis CCUG 53443\", \"Yersinia mollaretii ATCC 43969\", \"Yersinia pestis A1122\", \"Yersinia proxima\", \"Yersinia pseudotuberculosis IP 32953\", \"Yersinia rochesterensis\", \"Yersinia rohdei\", \"Yersinia ruckeri\", \"Yokenella regensburgei\"]\n",
        "\n",
        "user = UserContainer()\n",
        "user.protein = protein_sequence.upper().strip().replace(\"\\n\", \"\").replace(\" \", \"\").replace(\"\\t\", \"\")\n",
        "user.organism = organism\n",
        "\n",
        "print(\"Ready!\")"
      ],
      "metadata": {
        "cellView": "form",
        "id": "IGQHDt701-q0"
      },
      "execution_count": null,
      "outputs": []
    },
    {
      "cell_type": "code",
      "source": [
        "#@title **Run CodonTransformer!**\n",
        "#@markdown The Predicted DNA sequence is your optimized DNA sequence by CodonTransformer!\n",
        "\n",
        "output = predict_dna_sequence(\n",
        "    protein=user.protein,\n",
        "    organism=user.organism,\n",
        "    device=DEVICE,\n",
        "    tokenizer=tokenizer,\n",
        "    model=model,\n",
        "    attention_type=\"original_full\",\n",
        ")\n",
        "\n",
        "print(format_model_output(output))"
      ],
      "metadata": {
        "id": "C79gTjTr820p",
        "cellView": "form"
      },
      "execution_count": null,
      "outputs": []
    },
    {
      "cell_type": "markdown",
      "source": [
        "--------------------------------------------------------------------------\n",
        "# **Optimizing Multiple Sequences**\n",
        "\n",
        "You can download the [inference template](https://github.com/Adibvafa/CodonTransformer/raw/main/src/CodonTransformer_inference_template.xlsx) to create the input dataset.\n",
        "\n",
        "Your input dataset should be saved as a CSV file with the following columns:\n",
        "\n",
        "- `protein_sequence`: Protein sequences <br>\n",
        "- `organism`: Target organism (use the template to select)\n",
        "\n",
        "Notes:\n",
        "- For E. coli, use `Escherichia coli general` .\n",
        "- The protein sequence may terminate with either no special characters, `*`, or `_` .\n",
        "- You can have any other columns you wish!"
      ],
      "metadata": {
        "id": "YNR7DPR9CUjn"
      }
    },
    {
      "cell_type": "code",
      "source": [
        "#@title **Enter Dataset and Output Path**\n",
        "dataset_path = 'Upload your CSV file to `files` and enter its path here.' #@param {type:\"string\"}\n",
        "output_path = 'Enter your desired filename to save the predictions under `files`.' #@param {type:\"string\"}\n",
        "\n",
        "dataset_path = dataset_path.strip()\n",
        "output_path = output_path.strip()\n",
        "\n",
        "dataset = pd.read_csv(dataset_path, index_col=0)\n",
        "dataset[\"predicted_dna\"] = None\n",
        "dataset.head()"
      ],
      "metadata": {
        "id": "e-Z-5o_bCVKx",
        "cellView": "form"
      },
      "execution_count": null,
      "outputs": []
    },
    {
      "cell_type": "code",
      "source": [
        "#@title **Run CodonTransformer!**\n",
        "\n",
        "for index, data in tqdm(\n",
        "    dataset.iterrows(),\n",
        "    desc=f\"CodonTransformer Predicting\",\n",
        "    unit=\" Sequences\",\n",
        "    total=dataset.shape[0],\n",
        "):\n",
        "\n",
        "    outputs = predict_dna_sequence(\n",
        "        protein=data[\"protein_sequence\"],\n",
        "        organism=data[\"organism\"],\n",
        "        device=DEVICE,\n",
        "        tokenizer=tokenizer,\n",
        "        model=model,\n",
        "    )\n",
        "    dataset.loc[index, \"predicted_dna\"] = outputs.predicted_dna\n",
        "\n",
        "dataset.to_csv(output_path)\n",
        "dataset.head()"
      ],
      "metadata": {
        "id": "fP9dar5dCV4t",
        "cellView": "form"
      },
      "execution_count": null,
      "outputs": []
    }
  ]
}